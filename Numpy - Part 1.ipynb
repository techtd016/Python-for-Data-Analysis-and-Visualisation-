{
 "cells": [
  {
   "cell_type": "markdown",
   "id": "44fa7dc7",
   "metadata": {},
   "source": [
    "Numpy - used to create Arrays.\n",
    "Creating ARRAYS from Python Lists"
   ]
  },
  {
   "cell_type": "code",
   "execution_count": 1,
   "id": "01bc91d1",
   "metadata": {},
   "outputs": [
    {
     "name": "stdout",
     "output_type": "stream",
     "text": [
      "1.21.5\n"
     ]
    }
   ],
   "source": [
    "import numpy as np\n",
    "print(np.__version__)"
   ]
  },
  {
   "cell_type": "code",
   "execution_count": 5,
   "id": "f12b2482",
   "metadata": {},
   "outputs": [
    {
     "data": {
      "text/plain": [
       "array([1, 2, 3, 4])"
      ]
     },
     "execution_count": 5,
     "metadata": {},
     "output_type": "execute_result"
    }
   ],
   "source": [
    "#creating a list and passing it as an array object\n",
    "list1=[1,2,3,4]\n",
    "arr1=np.array(list1)\n",
    "arr1"
   ]
  },
  {
   "cell_type": "code",
   "execution_count": 9,
   "id": "cfddc273",
   "metadata": {},
   "outputs": [
    {
     "name": "stdout",
     "output_type": "stream",
     "text": [
      "[[ 1  2  3  4]\n",
      " [21 22 23 24]]\n"
     ]
    }
   ],
   "source": [
    "#creating multi-dimensional array\n",
    "list2=[21,22,23,24]\n",
    "t_list=[list1,list2]\n",
    "n_list=np.array(t_list)\n",
    "print(n_list)"
   ]
  },
  {
   "cell_type": "code",
   "execution_count": 11,
   "id": "0c88abc2",
   "metadata": {},
   "outputs": [
    {
     "data": {
      "text/plain": [
       "(2, 4)"
      ]
     },
     "execution_count": 11,
     "metadata": {},
     "output_type": "execute_result"
    }
   ],
   "source": [
    "#shape- dimensions of arrays\n",
    "n_list.shape"
   ]
  },
  {
   "cell_type": "code",
   "execution_count": 14,
   "id": "a355230c",
   "metadata": {},
   "outputs": [
    {
     "name": "stdout",
     "output_type": "stream",
     "text": [
      "[[ 12  20  30  40]\n",
      " [100 200 300 400]]\n",
      "shape :  (2, 4)\n"
     ]
    }
   ],
   "source": [
    "#creating arrays with lists as arguements\n",
    "a= np.array([[12,20,30,40],[100,200,300,400]])\n",
    "print(a)\n",
    "print(\"shape : \",a.shape)"
   ]
  },
  {
   "cell_type": "code",
   "execution_count": 19,
   "id": "21a51ebd",
   "metadata": {},
   "outputs": [
    {
     "name": "stdout",
     "output_type": "stream",
     "text": [
      "2-D : [[0. 0.]\n",
      " [0. 0.]]\n",
      "1-D : [0. 0. 0. 0.]\n"
     ]
    }
   ],
   "source": [
    "#creating arrays zeros and ones\n",
    "print('2-D :',np.zeros((2,2)))\n",
    "print('1-D :',np.zeros(4))\n"
   ]
  },
  {
   "cell_type": "code",
   "execution_count": 23,
   "id": "40d64d84",
   "metadata": {},
   "outputs": [
    {
     "name": "stdout",
     "output_type": "stream",
     "text": [
      "[[1. 1. 1. 1. 1.]\n",
      " [1. 1. 1. 1. 1.]\n",
      " [1. 1. 1. 1. 1.]\n",
      " [1. 1. 1. 1. 1.]\n",
      " [1. 1. 1. 1. 1.]]\n",
      "float64\n"
     ]
    }
   ],
   "source": [
    "# datatype\n",
    "b=np.ones((5,5))\n",
    "print(b)\n",
    "print(b.dtype)"
   ]
  },
  {
   "cell_type": "code",
   "execution_count": 39,
   "id": "1bd2391a",
   "metadata": {},
   "outputs": [
    {
     "name": "stdout",
     "output_type": "stream",
     "text": [
      "empty array :  [0. 0. 0. 0.]\n",
      "float64 \n",
      "\n",
      "[[0 0]\n",
      " [0 0]] \n",
      "  int64 \n",
      "\n",
      "Full Array: \n",
      "  [[12 12 12]\n",
      " [12 12 12]\n",
      " [12 12 12]] \n",
      " int64\n"
     ]
    }
   ],
   "source": [
    "# empty array- all elements are zero\n",
    "c=np.empty(4)\n",
    "print('empty array : ', c)\n",
    "print(c.dtype, '\\n')\n",
    "\n",
    "e= np.empty((2,2),dtype=int)\n",
    "print(e, \"\\n \", e.dtype,'\\n')\n",
    "\n",
    "#full array - all same elements\n",
    "d=np.full((3,3),12)\n",
    "print('Full Array: \\n ', d, '\\n', d.dtype)"
   ]
  },
  {
   "cell_type": "markdown",
   "id": "4103cd34",
   "metadata": {},
   "source": [
    "EMPTY ARRAY initialises the elements to values either in negative or zeros WHEREAS \n",
    "ZERO ARRAYS assigns all elements to zeros"
   ]
  },
  {
   "cell_type": "code",
   "execution_count": 45,
   "id": "8ac98cd0",
   "metadata": {},
   "outputs": [
    {
     "name": "stdout",
     "output_type": "stream",
     "text": [
      "[[1 0 0]\n",
      " [0 1 0]\n",
      " [0 0 1]]\n"
     ]
    }
   ],
   "source": [
    "#Identity Matrix - 3 is nxn matrix dimension\n",
    "i=np.eye(3,dtype=int)\n",
    "print(i)"
   ]
  },
  {
   "cell_type": "code",
   "execution_count": 47,
   "id": "257316b7",
   "metadata": {},
   "outputs": [
    {
     "name": "stdout",
     "output_type": "stream",
     "text": [
      "[0 1 2 3 4] \n",
      "\n",
      "[ 3  6  9 12 15 18 21 24 27]\n"
     ]
    }
   ],
   "source": [
    "#np.arange(start,stop,step)\n",
    "r= np.arange(5)\n",
    "print(r,'\\n')\n",
    "ran=np.arange(3,30,3)\n",
    "print(ran)"
   ]
  },
  {
   "cell_type": "markdown",
   "id": "1fd33b31",
   "metadata": {},
   "source": [
    "ARRAYS AND SCALARS - operations"
   ]
  },
  {
   "cell_type": "code",
   "execution_count": 48,
   "id": "08e6dd69",
   "metadata": {},
   "outputs": [
    {
     "data": {
      "text/plain": [
       "2.5"
      ]
     },
     "execution_count": 48,
     "metadata": {},
     "output_type": "execute_result"
    }
   ],
   "source": [
    "5/2"
   ]
  },
  {
   "cell_type": "code",
   "execution_count": 51,
   "id": "a5b2f456",
   "metadata": {},
   "outputs": [
    {
     "data": {
      "text/plain": [
       "array([[ 1,  2,  3,  4],\n",
       "       [ 8,  9, 10, 11]])"
      ]
     },
     "execution_count": 51,
     "metadata": {},
     "output_type": "execute_result"
    }
   ],
   "source": [
    "ar=np.array([[1,2,3,4],[8,9,10,11]])\n",
    "ar"
   ]
  },
  {
   "cell_type": "code",
   "execution_count": 58,
   "id": "87a9c27f",
   "metadata": {},
   "outputs": [
    {
     "data": {
      "text/plain": [
       "array([[  1,   4,   9,  16],\n",
       "       [ 64,  81, 100, 121]])"
      ]
     },
     "execution_count": 58,
     "metadata": {},
     "output_type": "execute_result"
    }
   ],
   "source": [
    "ar*ar "
   ]
  },
  {
   "cell_type": "code",
   "execution_count": 53,
   "id": "c530f719",
   "metadata": {},
   "outputs": [
    {
     "data": {
      "text/plain": [
       "array([[ 2,  4,  6,  8],\n",
       "       [16, 18, 20, 22]])"
      ]
     },
     "execution_count": 53,
     "metadata": {},
     "output_type": "execute_result"
    }
   ],
   "source": [
    "ar+ar"
   ]
  },
  {
   "cell_type": "code",
   "execution_count": 54,
   "id": "0b1ef878",
   "metadata": {},
   "outputs": [
    {
     "data": {
      "text/plain": [
       "array([[ 0,  1,  2,  3],\n",
       "       [ 7,  8,  9, 10]])"
      ]
     },
     "execution_count": 54,
     "metadata": {},
     "output_type": "execute_result"
    }
   ],
   "source": [
    "ar-1"
   ]
  },
  {
   "cell_type": "code",
   "execution_count": 55,
   "id": "cd185ed9",
   "metadata": {},
   "outputs": [
    {
     "data": {
      "text/plain": [
       "array([[0.5, 1. , 1.5, 2. ],\n",
       "       [4. , 4.5, 5. , 5.5]])"
      ]
     },
     "execution_count": 55,
     "metadata": {},
     "output_type": "execute_result"
    }
   ],
   "source": [
    "ar/2"
   ]
  },
  {
   "cell_type": "code",
   "execution_count": 56,
   "id": "a0a9ad57",
   "metadata": {},
   "outputs": [
    {
     "data": {
      "text/plain": [
       "array([[1.        , 0.5       , 0.33333333, 0.25      ],\n",
       "       [0.125     , 0.11111111, 0.1       , 0.09090909]])"
      ]
     },
     "execution_count": 56,
     "metadata": {},
     "output_type": "execute_result"
    }
   ],
   "source": [
    "1/ar"
   ]
  },
  {
   "cell_type": "code",
   "execution_count": 57,
   "id": "d4a0f26e",
   "metadata": {},
   "outputs": [
    {
     "data": {
      "text/plain": [
       "array([[  1,   4,   9,  16],\n",
       "       [ 64,  81, 100, 121]])"
      ]
     },
     "execution_count": 57,
     "metadata": {},
     "output_type": "execute_result"
    }
   ],
   "source": [
    "ar**2"
   ]
  }
 ],
 "metadata": {
  "kernelspec": {
   "display_name": "Python 3 (ipykernel)",
   "language": "python",
   "name": "python3"
  },
  "language_info": {
   "codemirror_mode": {
    "name": "ipython",
    "version": 3
   },
   "file_extension": ".py",
   "mimetype": "text/x-python",
   "name": "python",
   "nbconvert_exporter": "python",
   "pygments_lexer": "ipython3",
   "version": "3.9.12"
  }
 },
 "nbformat": 4,
 "nbformat_minor": 5
}
