{
 "cells": [
  {
   "cell_type": "markdown",
   "id": "6df031e9",
   "metadata": {},
   "source": [
    "INDEXING IN ARRAYS"
   ]
  },
  {
   "cell_type": "markdown",
   "id": "058535a2",
   "metadata": {},
   "source": [
    "INDEXING 1-D arrays"
   ]
  },
  {
   "cell_type": "code",
   "execution_count": 1,
   "id": "f1613921",
   "metadata": {},
   "outputs": [],
   "source": [
    "import numpy as np"
   ]
  },
  {
   "cell_type": "code",
   "execution_count": 3,
   "id": "3379fac3",
   "metadata": {},
   "outputs": [
    {
     "data": {
      "text/plain": [
       "array([ 0,  1,  2,  3,  4,  5,  6,  7,  8,  9, 10])"
      ]
     },
     "execution_count": 3,
     "metadata": {},
     "output_type": "execute_result"
    }
   ],
   "source": [
    "arr=np.arange(0,11)\n",
    "arr"
   ]
  },
  {
   "cell_type": "code",
   "execution_count": 4,
   "id": "acf79862",
   "metadata": {},
   "outputs": [
    {
     "data": {
      "text/plain": [
       "4"
      ]
     },
     "execution_count": 4,
     "metadata": {},
     "output_type": "execute_result"
    }
   ],
   "source": [
    "#index starts from 0\n",
    "arr[4]"
   ]
  },
  {
   "cell_type": "code",
   "execution_count": 5,
   "id": "9676bb2f",
   "metadata": {},
   "outputs": [
    {
     "data": {
      "text/plain": [
       "array([2, 3, 4, 5, 6, 7])"
      ]
     },
     "execution_count": 5,
     "metadata": {},
     "output_type": "execute_result"
    }
   ],
   "source": [
    "#slicing array - arrayname[start:end-1]\n",
    "arr[2:8]"
   ]
  },
  {
   "cell_type": "code",
   "execution_count": 8,
   "id": "92ea5683",
   "metadata": {},
   "outputs": [
    {
     "data": {
      "text/plain": [
       "array([23, 24, 24,  3,  4,  5,  6,  7,  8,  9, 10])"
      ]
     },
     "execution_count": 8,
     "metadata": {},
     "output_type": "execute_result"
    }
   ],
   "source": [
    "#updating the values\n",
    "arr[0:3]=[23,24,24]\n",
    "arr"
   ]
  },
  {
   "cell_type": "markdown",
   "id": "92a5720b",
   "metadata": {},
   "source": [
    "NOTE: In arrays, any manipulation done on the elements affects the original array, so explicitly copy the orignal array content if required."
   ]
  },
  {
   "cell_type": "code",
   "execution_count": 11,
   "id": "bc8d0f09",
   "metadata": {
    "scrolled": true
   },
   "outputs": [
    {
     "data": {
      "text/plain": [
       "array([23, 24, 24,  3,  4,  5,  6,  7,  8,  9, 10])"
      ]
     },
     "execution_count": 11,
     "metadata": {},
     "output_type": "execute_result"
    }
   ],
   "source": [
    "arr_new= arr.copy()\n",
    "arr_new"
   ]
  },
  {
   "cell_type": "code",
   "execution_count": 13,
   "id": "1065d5ae",
   "metadata": {},
   "outputs": [
    {
     "data": {
      "text/plain": [
       "array([23, 34, 34, 34, 65, 65, 65,  7,  8,  9, 10])"
      ]
     },
     "execution_count": 13,
     "metadata": {},
     "output_type": "execute_result"
    }
   ],
   "source": [
    "arr[4:7]=65\n",
    "arr"
   ]
  },
  {
   "cell_type": "code",
   "execution_count": 14,
   "id": "cc478514",
   "metadata": {},
   "outputs": [
    {
     "data": {
      "text/plain": [
       "array([23, 24, 24,  3,  4,  5,  6,  7,  8,  9, 10])"
      ]
     },
     "execution_count": 14,
     "metadata": {},
     "output_type": "execute_result"
    }
   ],
   "source": [
    "arr_new"
   ]
  },
  {
   "cell_type": "markdown",
   "id": "2242625a",
   "metadata": {},
   "source": [
    "INDEXING 2-D Arrays"
   ]
  },
  {
   "cell_type": "code",
   "execution_count": 16,
   "id": "54ca3a9e",
   "metadata": {},
   "outputs": [
    {
     "name": "stdout",
     "output_type": "stream",
     "text": [
      "2-Dimensional Arrays : \n",
      " [[ 2  4  6]\n",
      " [ 6  9 12]\n",
      " [12 16 20]]\n"
     ]
    }
   ],
   "source": [
    "a_2d= np.array([[2,4,6],[6,9,12],[12,16,20]])\n",
    "print('2-Dimensional Arrays : \\n',a_2d)"
   ]
  },
  {
   "cell_type": "code",
   "execution_count": 17,
   "id": "dc070932",
   "metadata": {},
   "outputs": [
    {
     "data": {
      "text/plain": [
       "array([12, 16, 20])"
      ]
     },
     "execution_count": 17,
     "metadata": {},
     "output_type": "execute_result"
    }
   ],
   "source": [
    "a_2d[2]"
   ]
  },
  {
   "cell_type": "code",
   "execution_count": 18,
   "id": "ef3514d3",
   "metadata": {},
   "outputs": [
    {
     "data": {
      "text/plain": [
       "16"
      ]
     },
     "execution_count": 18,
     "metadata": {},
     "output_type": "execute_result"
    }
   ],
   "source": [
    "a_2d[2,1]"
   ]
  },
  {
   "cell_type": "code",
   "execution_count": 24,
   "id": "4b4da0f1",
   "metadata": {},
   "outputs": [
    {
     "name": "stdout",
     "output_type": "stream",
     "text": [
      "[[2 4]\n",
      " [6 9]] \n",
      "\n",
      "[[ 6  9]\n",
      " [12 16]] \n",
      "\n",
      "[[ 4  6]\n",
      " [ 9 12]] \n",
      "\n",
      "[[ 6  9 12]\n",
      " [12 16 20]] \n",
      "\n"
     ]
    }
   ],
   "source": [
    "# Slicing 2-D Arrays:\n",
    "print(a_2d[0:2,0:2],'\\n')\n",
    "print(a_2d[1:3,0:2],'\\n')\n",
    "print(a_2d[0:2,1:3],'\\n')\n",
    "print(a_2d[1:3,0:3],'\\n')"
   ]
  },
  {
   "cell_type": "code",
   "execution_count": 40,
   "id": "c3c39313",
   "metadata": {},
   "outputs": [
    {
     "data": {
      "text/plain": [
       "array([[0, 0, 0, 0, 0, 0],\n",
       "       [0, 0, 0, 0, 0, 0],\n",
       "       [0, 0, 0, 0, 0, 0],\n",
       "       [0, 0, 0, 0, 0, 0],\n",
       "       [0, 0, 0, 0, 0, 0],\n",
       "       [0, 0, 0, 0, 0, 0]])"
      ]
     },
     "execution_count": 40,
     "metadata": {},
     "output_type": "execute_result"
    }
   ],
   "source": [
    "a2d=np.zeros((6,6),dtype=int)\n",
    "a2d"
   ]
  },
  {
   "cell_type": "code",
   "execution_count": 35,
   "id": "33f0ed51",
   "metadata": {},
   "outputs": [
    {
     "data": {
      "text/plain": [
       "6"
      ]
     },
     "execution_count": 35,
     "metadata": {},
     "output_type": "execute_result"
    }
   ],
   "source": [
    "a_len=a2d.shape[1]\n",
    "a_len"
   ]
  },
  {
   "cell_type": "code",
   "execution_count": 42,
   "id": "9dc317ce",
   "metadata": {},
   "outputs": [
    {
     "data": {
      "text/plain": [
       "array([[0, 0, 0, 0, 0, 0],\n",
       "       [1, 1, 1, 1, 1, 1],\n",
       "       [2, 2, 2, 2, 2, 2],\n",
       "       [3, 3, 3, 3, 3, 3],\n",
       "       [4, 4, 4, 4, 4, 4],\n",
       "       [5, 5, 5, 5, 5, 5]])"
      ]
     },
     "execution_count": 42,
     "metadata": {},
     "output_type": "execute_result"
    }
   ],
   "source": [
    "for i in range(a_len):\n",
    "    a2d[i]=i\n",
    "a2d"
   ]
  },
  {
   "cell_type": "code",
   "execution_count": 41,
   "id": "def7762a",
   "metadata": {
    "scrolled": true
   },
   "outputs": [
    {
     "data": {
      "text/plain": [
       "array([[1, 1, 1, 1, 1, 1],\n",
       "       [1, 1, 1, 1, 1, 1],\n",
       "       [1, 1, 1, 1, 1, 1],\n",
       "       [1, 1, 1, 1, 1, 1],\n",
       "       [1, 1, 1, 1, 1, 1],\n",
       "       [1, 1, 1, 1, 1, 1]])"
      ]
     },
     "execution_count": 41,
     "metadata": {},
     "output_type": "execute_result"
    }
   ],
   "source": [
    "for i in range(a_len):\n",
    "    a2d[i]=1\n",
    "a2d"
   ]
  },
  {
   "cell_type": "code",
   "execution_count": 45,
   "id": "4304b052",
   "metadata": {},
   "outputs": [
    {
     "data": {
      "text/plain": [
       "array([[ 0,  0,  0,  0,  0,  0],\n",
       "       [ 1,  1,  1,  1,  1,  1],\n",
       "       [ 2,  2,  2,  2,  2,  2],\n",
       "       [ 3,  3,  3,  3,  3,  3],\n",
       "       [ 4,  4,  4,  4,  4,  4],\n",
       "       [10, 10, 10, 10, 10, 10]])"
      ]
     },
     "execution_count": 45,
     "metadata": {},
     "output_type": "execute_result"
    }
   ],
   "source": [
    "#assigning a single value to the row indexed 5\n",
    "a2d[5]=10\n",
    "a2d"
   ]
  },
  {
   "cell_type": "code",
   "execution_count": 53,
   "id": "df130df8",
   "metadata": {},
   "outputs": [
    {
     "data": {
      "text/plain": [
       "array([[10, 10, 10, 10, 10, 10],\n",
       "       [ 3,  3,  3,  3,  3,  3]])"
      ]
     },
     "execution_count": 53,
     "metadata": {},
     "output_type": "execute_result"
    }
   ],
   "source": [
    "#retriving random rows- here row indexed at 5 and 3\n",
    "a2d[[5,3]]\n"
   ]
  },
  {
   "cell_type": "markdown",
   "id": "961224a9",
   "metadata": {},
   "source": [
    "ARRAY TRANSPOSITION"
   ]
  },
  {
   "cell_type": "code",
   "execution_count": 58,
   "id": "ff6728d5",
   "metadata": {},
   "outputs": [
    {
     "data": {
      "text/plain": [
       "array([[ 1,  2,  3,  4,  5],\n",
       "       [ 6,  7,  8,  9, 10],\n",
       "       [11, 12, 13, 14, 15],\n",
       "       [16, 17, 18, 19, 20]])"
      ]
     },
     "execution_count": 58,
     "metadata": {},
     "output_type": "execute_result"
    }
   ],
   "source": [
    "#Taking range of numbers from 1 to 20 and reshaping it in 4 x 5 matrix\n",
    "a=np.arange(1,21).reshape(4,5)\n",
    "a"
   ]
  },
  {
   "cell_type": "code",
   "execution_count": 59,
   "id": "1768d6cb",
   "metadata": {},
   "outputs": [
    {
     "data": {
      "text/plain": [
       "array([[ 1,  6, 11, 16],\n",
       "       [ 2,  7, 12, 17],\n",
       "       [ 3,  8, 13, 18],\n",
       "       [ 4,  9, 14, 19],\n",
       "       [ 5, 10, 15, 20]])"
      ]
     },
     "execution_count": 59,
     "metadata": {},
     "output_type": "execute_result"
    }
   ],
   "source": [
    "#Matrix Transposition \n",
    "a.T"
   ]
  },
  {
   "cell_type": "code",
   "execution_count": 60,
   "id": "5d090af4",
   "metadata": {},
   "outputs": [
    {
     "data": {
      "text/plain": [
       "array([[  55,  130,  205,  280],\n",
       "       [ 130,  330,  530,  730],\n",
       "       [ 205,  530,  855, 1180],\n",
       "       [ 280,  730, 1180, 1630]])"
      ]
     },
     "execution_count": 60,
     "metadata": {},
     "output_type": "execute_result"
    }
   ],
   "source": [
    "#Matrix Multiplication\n",
    "np.dot(a,a.T)"
   ]
  },
  {
   "cell_type": "markdown",
   "id": "69c661b2",
   "metadata": {},
   "source": [
    "3-Dimemsional Arrays: \n",
    "reshape(outerdimension,m,n)"
   ]
  },
  {
   "cell_type": "code",
   "execution_count": 64,
   "id": "b68136e3",
   "metadata": {},
   "outputs": [
    {
     "data": {
      "text/plain": [
       "array([[[ 1,  2],\n",
       "        [ 3,  4],\n",
       "        [ 5,  6],\n",
       "        [ 7,  8],\n",
       "        [ 9, 10]],\n",
       "\n",
       "       [[11, 12],\n",
       "        [13, 14],\n",
       "        [15, 16],\n",
       "        [17, 18],\n",
       "        [19, 20]]])"
      ]
     },
     "execution_count": 64,
     "metadata": {},
     "output_type": "execute_result"
    }
   ],
   "source": [
    "#tanspose of single element matrix and rows of each matrix becomes columns on final transpose\n",
    "\n",
    "aa= np.arange(1,21).reshape(2,5,2)\n",
    "aa"
   ]
  },
  {
   "cell_type": "code",
   "execution_count": 63,
   "id": "b3d8d03b",
   "metadata": {},
   "outputs": [
    {
     "data": {
      "text/plain": [
       "array([[[ 1, 11],\n",
       "        [ 3, 13],\n",
       "        [ 5, 15],\n",
       "        [ 7, 17],\n",
       "        [ 9, 19]],\n",
       "\n",
       "       [[ 2, 12],\n",
       "        [ 4, 14],\n",
       "        [ 6, 16],\n",
       "        [ 8, 18],\n",
       "        [10, 20]]])"
      ]
     },
     "execution_count": 63,
     "metadata": {},
     "output_type": "execute_result"
    }
   ],
   "source": [
    "aa.T"
   ]
  },
  {
   "cell_type": "code",
   "execution_count": 66,
   "id": "61d35183",
   "metadata": {},
   "outputs": [
    {
     "data": {
      "text/plain": [
       "array([[[ 1,  2],\n",
       "        [11, 12]],\n",
       "\n",
       "       [[ 3,  4],\n",
       "        [13, 14]],\n",
       "\n",
       "       [[ 5,  6],\n",
       "        [15, 16]],\n",
       "\n",
       "       [[ 7,  8],\n",
       "        [17, 18]],\n",
       "\n",
       "       [[ 9, 10],\n",
       "        [19, 20]]])"
      ]
     },
     "execution_count": 66,
     "metadata": {},
     "output_type": "execute_result"
    }
   ],
   "source": [
    "aa.transpose(1,0,2) # outerdimension =1 single row, each matrix will be of 2x2 i.e 0x2"
   ]
  },
  {
   "cell_type": "code",
   "execution_count": 68,
   "id": "bdcb5ac7",
   "metadata": {},
   "outputs": [
    {
     "data": {
      "text/plain": [
       "array([[1, 2, 3]])"
      ]
     },
     "execution_count": 68,
     "metadata": {},
     "output_type": "execute_result"
    }
   ],
   "source": [
    "new=np.array([[1,2,3]])\n",
    "new"
   ]
  },
  {
   "cell_type": "code",
   "execution_count": 71,
   "id": "0cfe8937",
   "metadata": {},
   "outputs": [
    {
     "data": {
      "text/plain": [
       "array([[1],\n",
       "       [2],\n",
       "       [3]])"
      ]
     },
     "execution_count": 71,
     "metadata": {},
     "output_type": "execute_result"
    }
   ],
   "source": [
    "new.swapaxes(0,1)"
   ]
  }
 ],
 "metadata": {
  "kernelspec": {
   "display_name": "Python 3 (ipykernel)",
   "language": "python",
   "name": "python3"
  },
  "language_info": {
   "codemirror_mode": {
    "name": "ipython",
    "version": 3
   },
   "file_extension": ".py",
   "mimetype": "text/x-python",
   "name": "python",
   "nbconvert_exporter": "python",
   "pygments_lexer": "ipython3",
   "version": "3.9.12"
  }
 },
 "nbformat": 4,
 "nbformat_minor": 5
}
